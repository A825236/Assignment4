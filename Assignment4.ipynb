{
 "cells": [
  {
   "cell_type": "markdown",
   "id": "2979f150-b013-4d80-b6c8-7da9aaec6dd1",
   "metadata": {},
   "source": [
    "1. Write a Python Program to Find the Factorial of a Number?"
   ]
  },
  {
   "cell_type": "code",
   "execution_count": 25,
   "id": "2a173090-27de-4fa2-8763-c627caa8e432",
   "metadata": {},
   "outputs": [],
   "source": [
    "def factorial(number):\n",
    "    factorial = 1\n",
    "    for i in range(5,1,-1):\n",
    "        factorial = factorial*i\n",
    "    print(factorial)"
   ]
  },
  {
   "cell_type": "code",
   "execution_count": 27,
   "id": "165945a1-02d1-4941-9697-fc625bdae95b",
   "metadata": {},
   "outputs": [
    {
     "name": "stdout",
     "output_type": "stream",
     "text": [
      "120\n"
     ]
    }
   ],
   "source": [
    "factorial(5)"
   ]
  },
  {
   "cell_type": "code",
   "execution_count": 23,
   "id": "79df932a-bff9-4305-b19b-9a140ffe07d1",
   "metadata": {},
   "outputs": [
    {
     "data": {
      "text/plain": [
       "120"
      ]
     },
     "execution_count": 23,
     "metadata": {},
     "output_type": "execute_result"
    }
   ],
   "source": [
    "import math \n",
    "math.factorial(5)\n"
   ]
  },
  {
   "cell_type": "markdown",
   "id": "bbfadc25-4c29-49e2-a108-701182f05e01",
   "metadata": {},
   "source": [
    "2. Write a Python Program to Display the multiplication Table?"
   ]
  },
  {
   "cell_type": "code",
   "execution_count": 39,
   "id": "483733d0-9620-43b1-b7fa-606b40c8a469",
   "metadata": {},
   "outputs": [
    {
     "name": "stdin",
     "output_type": "stream",
     "text": [
      "Enter your number :  5\n"
     ]
    },
    {
     "name": "stdout",
     "output_type": "stream",
     "text": [
      "5 x 1 = 5\n",
      "5 x 2 = 10\n",
      "5 x 3 = 15\n",
      "5 x 4 = 20\n",
      "5 x 5 = 25\n",
      "5 x 6 = 30\n",
      "5 x 7 = 35\n",
      "5 x 8 = 40\n",
      "5 x 9 = 45\n",
      "5 x 10 = 50\n"
     ]
    }
   ],
   "source": [
    "def table(number):\n",
    "    for i in range(1,11):\n",
    "        print(f\"{number} x {i} = {number*i}\")\n",
    "\n",
    "if __name__ == \"__main__\":\n",
    "    try:\n",
    "        number = int(input(\"Enter your number : \"))\n",
    "        table(number)\n",
    "\n",
    "    except Exception as e:\n",
    "        print(\"only number are allowed\")"
   ]
  },
  {
   "cell_type": "code",
   "execution_count": 29,
   "id": "61e3f64e-5c8f-4b1f-8d9f-ce4bbffc6f66",
   "metadata": {},
   "outputs": [
    {
     "name": "stdout",
     "output_type": "stream",
     "text": [
      "5\n",
      "10\n",
      "15\n",
      "20\n",
      "25\n",
      "30\n",
      "35\n",
      "40\n",
      "45\n",
      "50\n"
     ]
    }
   ],
   "source": [
    "number = 5\n",
    "for i in range(1,11):\n",
    "    print(number*i)"
   ]
  },
  {
   "cell_type": "markdown",
   "id": "66d720b1-8b65-4db5-aedf-c3091e946b7a",
   "metadata": {},
   "source": [
    "3. Write a Python Program to Print the Fibonacci sequence?"
   ]
  },
  {
   "cell_type": "code",
   "execution_count": 14,
   "id": "3532842f-22a6-4ed6-b1d7-fa871ee9d8c1",
   "metadata": {},
   "outputs": [
    {
     "name": "stdout",
     "output_type": "stream",
     "text": [
      "[10, 11, 21, 32, 53, 85, 138, 223, 361, 584]\n"
     ]
    }
   ],
   "source": [
    "def my_fibonacci(number):\n",
    "    fib_list = []\n",
    "    a,b = 10,11\n",
    "    for _ in range(number):\n",
    "        fib_list.append(a)\n",
    "        a,b = b,a+b\n",
    "\n",
    "    return fib_list\n",
    "\n",
    "if __name__ == \"__main__\":\n",
    "    print(my_fibonacci(10))"
   ]
  },
  {
   "cell_type": "code",
   "execution_count": 16,
   "id": "7f9a9810-55d9-41fb-8cfa-77d725c6860e",
   "metadata": {},
   "outputs": [
    {
     "name": "stdin",
     "output_type": "stream",
     "text": [
      "Enter the number of terms in the Fibonacci sequence:  10\n"
     ]
    },
    {
     "name": "stdout",
     "output_type": "stream",
     "text": [
      "Fibonacci sequence upto 10 terms: \n",
      "10 11 21 32 53 85 138 223 361 584 "
     ]
    }
   ],
   "source": [
    "def fibonacci(number):\n",
    "\n",
    "    a, b = 10,11\n",
    "    count = 0\n",
    "    \n",
    "    if number <= 0:\n",
    "        print(\"Please enter a positive integer\")\n",
    "    elif number == 1:\n",
    "        print(\"Fibonacci sequence upto 1 term: \")\n",
    "        print(a)\n",
    "    else:\n",
    "        print(f\"Fibonacci sequence upto {number} terms: \")\n",
    "        while count < number:\n",
    "            print(a, end=' ')\n",
    "            a, b = b, a + b\n",
    "            count += 1\n",
    "\n",
    "number = int(input(\"Enter the number of terms in the Fibonacci sequence: \"))\n",
    "fibonacci(number)\n"
   ]
  },
  {
   "cell_type": "markdown",
   "id": "1ce4efcb-abe1-44cd-9f6a-f60a953bcc17",
   "metadata": {},
   "source": [
    "4. Write a Python Program to Check Armstrong Number?"
   ]
  },
  {
   "cell_type": "code",
   "execution_count": 24,
   "id": "66e69a6a-f815-48e0-9b36-63b5267bb9cc",
   "metadata": {},
   "outputs": [
    {
     "name": "stdin",
     "output_type": "stream",
     "text": [
      "Enter a number to check if it's an Armstrong number :  153\n"
     ]
    },
    {
     "name": "stdout",
     "output_type": "stream",
     "text": [
      "153 is an armstrong number .\n"
     ]
    }
   ],
   "source": [
    "def armstrong_number(number):\n",
    "    number_string = str(number)\n",
    "    number_digits = len(number_string)\n",
    "\n",
    "    sum_of_powers = sum(int(digit) ** number_digits for digit in number_string)\n",
    "\n",
    "    if sum_of_powers == number:\n",
    "        return True\n",
    "    else:\n",
    "        return False\n",
    "\n",
    "number = int(input(\"Enter a number to check if it's an Armstrong number : \"))\n",
    "\n",
    "if armstrong_number(number):\n",
    "    print(f\"{number} is an armstrong number .\")\n",
    "\n",
    "else:\n",
    "    print(f\"{number} is not an armstrong number .\")"
   ]
  },
  {
   "cell_type": "code",
   "execution_count": 35,
   "id": "39324b0e-809a-4647-bdc1-2aa959665bde",
   "metadata": {},
   "outputs": [
    {
     "name": "stdout",
     "output_type": "stream",
     "text": [
      "This is armstrong\n"
     ]
    }
   ],
   "source": [
    "number = \"153\"\n",
    "power = len(number)\n",
    "new_total = sum(tuple(int(item)**power for item in number))\n",
    "if new_total == int(number):\n",
    "    print(\"This is armstrong\")\n",
    "\n",
    "else:\n",
    "    print(\"Not armstrong\")"
   ]
  },
  {
   "cell_type": "code",
   "execution_count": 37,
   "id": "d9762e14-7164-4adb-acd2-963ce5779f4e",
   "metadata": {},
   "outputs": [
    {
     "name": "stdout",
     "output_type": "stream",
     "text": [
      "this is armstrong\n"
     ]
    }
   ],
   "source": [
    "if new_total == int(number):\n",
    "    print(\"this is armstrong\")\n",
    "\n",
    "else:\n",
    "    print(\"Not armstrong\")"
   ]
  },
  {
   "cell_type": "code",
   "execution_count": 39,
   "id": "016dd01c-f539-4a10-b221-d4eb1d6fea68",
   "metadata": {},
   "outputs": [],
   "source": [
    "new_total = sum(tuple(int(item)**power for item in number))"
   ]
  },
  {
   "cell_type": "code",
   "execution_count": 41,
   "id": "02decc10-fc15-4d4d-9c0a-a5e7f4d820cc",
   "metadata": {},
   "outputs": [
    {
     "data": {
      "text/plain": [
       "153"
      ]
     },
     "execution_count": 41,
     "metadata": {},
     "output_type": "execute_result"
    }
   ],
   "source": [
    "new_total"
   ]
  },
  {
   "cell_type": "code",
   "execution_count": 31,
   "id": "9cd977a0-9afa-45f0-9a23-6efd95599a45",
   "metadata": {},
   "outputs": [
    {
     "data": {
      "text/plain": [
       "'153'"
      ]
     },
     "execution_count": 31,
     "metadata": {},
     "output_type": "execute_result"
    }
   ],
   "source": [
    "\"1\"+ \"5\"+ \"3\""
   ]
  },
  {
   "cell_type": "markdown",
   "id": "d403afd9-77de-4a66-80fa-6f45d5e3dcac",
   "metadata": {},
   "source": [
    "5. Write a Python Program to Find Armstrong Number in an Interval?"
   ]
  },
  {
   "cell_type": "code",
   "execution_count": 47,
   "id": "80a0ecd3-013c-486d-92f9-397359352bd9",
   "metadata": {},
   "outputs": [
    {
     "name": "stdin",
     "output_type": "stream",
     "text": [
      "Enter the lower limit of the interval:  100\n",
      "Enter the upper limit of the interval:  999\n"
     ]
    },
    {
     "name": "stdout",
     "output_type": "stream",
     "text": [
      "Armstrong numbers between 100 and 999 are:\n",
      "153\n",
      "370\n",
      "371\n",
      "407\n"
     ]
    }
   ],
   "source": [
    "def is_armstrong(number):\n",
    "    num_str = str(number)\n",
    "    num_digits = len(num_str)\n",
    "    sum_of_powers = sum(int(digit) ** num_digits for digit in num_str)\n",
    "    return sum_of_powers == number\n",
    "\n",
    "lower = int(input(\"Enter the lower limit of the interval: \"))\n",
    "upper = int(input(\"Enter the upper limit of the interval: \"))\n",
    "\n",
    "print(f\"Armstrong numbers between {lower} and {upper} are:\")\n",
    "for num in range(lower, upper + 1):\n",
    "    if is_armstrong(num):\n",
    "        print(num)\n"
   ]
  },
  {
   "cell_type": "markdown",
   "id": "8cd955d1-a895-420c-96ca-2fb3281c055e",
   "metadata": {},
   "source": [
    "6. Write a Python Program to Find the Sum of Natural Numbers?"
   ]
  },
  {
   "cell_type": "code",
   "execution_count": 9,
   "id": "bd015bf1-b750-40f5-ae56-25d14c47024c",
   "metadata": {},
   "outputs": [
    {
     "name": "stdin",
     "output_type": "stream",
     "text": [
      "Enter a number:  100\n"
     ]
    },
    {
     "name": "stdout",
     "output_type": "stream",
     "text": [
      "The sum of natural numbers up to 100 is 5050\n"
     ]
    }
   ],
   "source": [
    "def sum_of_natural_numbers(n):\n",
    "    return n * (n + 1) // 2\n",
    "\n",
    "num = int(input(\"Enter a number: \"))\n",
    "\n",
    "if num > 0:\n",
    "    print(f\"The sum of natural numbers up to {num} is {sum_of_natural_numbers(num)}\")\n",
    "else:\n",
    "    print(\"Please enter a positive integer.\")\n"
   ]
  },
  {
   "cell_type": "code",
   "execution_count": null,
   "id": "8d846d20-0916-4a8b-8e6c-6cdbaabadbde",
   "metadata": {},
   "outputs": [],
   "source": []
  }
 ],
 "metadata": {
  "kernelspec": {
   "display_name": "Python 3 (ipykernel)",
   "language": "python",
   "name": "python3"
  },
  "language_info": {
   "codemirror_mode": {
    "name": "ipython",
    "version": 3
   },
   "file_extension": ".py",
   "mimetype": "text/x-python",
   "name": "python",
   "nbconvert_exporter": "python",
   "pygments_lexer": "ipython3",
   "version": "3.12.7"
  }
 },
 "nbformat": 4,
 "nbformat_minor": 5
}
